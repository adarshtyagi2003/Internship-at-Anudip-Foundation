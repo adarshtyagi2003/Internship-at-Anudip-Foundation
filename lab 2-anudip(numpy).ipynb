{
 "cells": [
  {
   "cell_type": "markdown",
   "id": "5b316a91",
   "metadata": {},
   "source": [
    "# Q1. "
   ]
  },
  {
   "cell_type": "code",
   "execution_count": 13,
   "id": "e0ad22f6",
   "metadata": {},
   "outputs": [],
   "source": [
    "import numpy as np "
   ]
  },
  {
   "cell_type": "code",
   "execution_count": 14,
   "id": "f496019e",
   "metadata": {},
   "outputs": [],
   "source": [
    "temperature=np.array([32.5,34.2,36.8,29.3,31.0,38.7,23.1,18.5,22.8,37.2,4.0,-4,2.0,-3,0])"
   ]
  },
  {
   "cell_type": "code",
   "execution_count": 15,
   "id": "07642476",
   "metadata": {},
   "outputs": [
    {
     "name": "stdout",
     "output_type": "stream",
     "text": [
      "hot days: [36.8 38.7 37.2]\n",
      "cold days: [ 4. -4.  2. -3.  0.]\n"
     ]
    }
   ],
   "source": [
    "hot_days=np.extract(temperature>35,temperature)\n",
    "cold_days=np.extract(temperature<5,temperature)\n",
    "print(\"hot days:\",hot_days)\n",
    "print(\"cold days:\",cold_days)\n"
   ]
  },
  {
   "cell_type": "markdown",
   "id": "5f44cf13",
   "metadata": {},
   "source": [
    "# Q2. \n"
   ]
  },
  {
   "cell_type": "code",
   "execution_count": 23,
   "id": "f2b3d3a4",
   "metadata": {},
   "outputs": [
    {
     "name": "stdout",
     "output_type": "stream",
     "text": [
      "\n",
      "Quarter 1 Sales:\n",
      "120\n",
      "135\n",
      "148\n",
      "\n",
      "Quarter 2 Sales:\n",
      "165\n",
      "180\n",
      "155\n",
      "\n",
      "Quarter 3 Sales:\n",
      "168\n",
      "190\n",
      "205\n",
      "\n",
      "Quarter 4 Sales:\n",
      "198\n",
      "210\n",
      "225\n"
     ]
    }
   ],
   "source": [
    "monthly_sales = np.array([120, 135, 148, 165, 180, 155, 168, 190, 205, 198, 210, 225])\n",
    "\n",
    "# Split into quarters and print\n",
    "quarter_sales = np.split(monthly_sales, 4)\n",
    "for i, quarter in enumerate(quarter_sales):\n",
    "    print(f\"\\nQuarter {i+1} Sales:\")\n",
    "    for sales in quarter:\n",
    "        print(sales)"
   ]
  },
  {
   "cell_type": "markdown",
   "id": "cc397849",
   "metadata": {},
   "source": [
    "# Q3."
   ]
  },
  {
   "cell_type": "code",
   "execution_count": 16,
   "id": "dfd6902b",
   "metadata": {},
   "outputs": [
    {
     "name": "stdout",
     "output_type": "stream",
     "text": [
      "Customers who made a purchase in the last 30 days: [101 102 103 104 105]\n",
      "Customers who haven't made a purchase in the last 30 days: [106 107 108 109 110]\n"
     ]
    }
   ],
   "source": [
    "\n",
    "customer_ids = np.array([101, 102, 103, 104, 105, 106, 107, 108, 109, 110])\n",
    "last_purchase_days_ago = np.array([5, 15, 20, 25, 30, 35, 40, 45, 50, 55])\n",
    "\n",
    "# Define the criteria for splitting\n",
    "recent_purchase_mask = last_purchase_days_ago <= 30\n",
    "no_recent_purchase_mask = last_purchase_days_ago > 30\n",
    "\n",
    "# Split the customer data into two groups\n",
    "recent_purchasers = customer_ids[recent_purchase_mask]\n",
    "no_recent_purchasers = customer_ids[no_recent_purchase_mask]\n",
    "\n",
    "# Print the results\n",
    "print(\"Customers who made a purchase in the last 30 days:\", recent_purchasers)\n",
    "print(\"Customers who haven't made a purchase in the last 30 days:\", no_recent_purchasers)\n"
   ]
  },
  {
   "cell_type": "markdown",
   "id": "5c377da6",
   "metadata": {},
   "source": [
    "# Q4."
   ]
  },
  {
   "cell_type": "code",
   "execution_count": 17,
   "id": "7cd371a3",
   "metadata": {},
   "outputs": [],
   "source": [
    "full_time_employees = np.array([\n",
    "[101, 'John Doe', 'Full-Time', 55000],\n",
    "[102, 'Jane Smith', 'Full-Time', 60000],\n",
    "[103, 'Mike Johnson', 'Full-Time', 52000]\n",
    "])\n",
    "\n",
    "part_time_employees = np.array([\n",
    "[201, 'Alice Brown', 'Part-Time', 25000],\n",
    "[202, 'Bob Wilson', 'Part-Time', 28000],\n",
    "[203, 'Emily Davis', 'Part-Time', 22000]\n",
    "])\n"
   ]
  },
  {
   "cell_type": "code",
   "execution_count": 20,
   "id": "40dbbb08",
   "metadata": {},
   "outputs": [],
   "source": [
    "result=np.concatenate((full_time_employees,part_time_employees),axis=0)"
   ]
  },
  {
   "cell_type": "code",
   "execution_count": 21,
   "id": "c1e04668",
   "metadata": {},
   "outputs": [
    {
     "name": "stdout",
     "output_type": "stream",
     "text": [
      "[['101' 'John Doe' 'Full-Time' '55000']\n",
      " ['102' 'Jane Smith' 'Full-Time' '60000']\n",
      " ['103' 'Mike Johnson' 'Full-Time' '52000']\n",
      " ['201' 'Alice Brown' 'Part-Time' '25000']\n",
      " ['202' 'Bob Wilson' 'Part-Time' '28000']\n",
      " ['203' 'Emily Davis' 'Part-Time' '22000']]\n"
     ]
    }
   ],
   "source": [
    "print(result)"
   ]
  },
  {
   "cell_type": "markdown",
   "id": "4806d873",
   "metadata": {},
   "source": [
    "# Q5. How to find the mean of every NumPy array in the given list?"
   ]
  },
  {
   "cell_type": "code",
   "execution_count": 24,
   "id": "a840cd7a",
   "metadata": {},
   "outputs": [],
   "source": [
    "list = [\n",
    "np.array([3, 2, 8, 9]),\n",
    "np.array([4, 12, 34, 25, 78]),\n",
    "np.array([23, 12, 67])\n",
    "]\n"
   ]
  },
  {
   "cell_type": "code",
   "execution_count": 25,
   "id": "d28c914b",
   "metadata": {},
   "outputs": [
    {
     "name": "stdout",
     "output_type": "stream",
     "text": [
      "Mean of array 1: 5.5\n",
      "Mean of array 2: 30.6\n",
      "Mean of array 3: 34.0\n"
     ]
    }
   ],
   "source": [
    "means = [np.mean(arr) for arr in list]\n",
    "\n",
    "# Print the results\n",
    "for i, mean in enumerate(means):\n",
    "    print(f\"Mean of array {i+1}: {mean}\")\n"
   ]
  },
  {
   "cell_type": "markdown",
   "id": "07de3df3",
   "metadata": {},
   "source": [
    "# Q6. Compute the median of the flattened NumPy array\n"
   ]
  },
  {
   "cell_type": "code",
   "execution_count": 26,
   "id": "037e3308",
   "metadata": {},
   "outputs": [],
   "source": [
    "x_odd = np.array([1, 2, 3, 4, 5, 6, 7])\n",
    "median=np.median(x_odd)"
   ]
  },
  {
   "cell_type": "code",
   "execution_count": 27,
   "id": "8bebcb79",
   "metadata": {},
   "outputs": [
    {
     "name": "stdout",
     "output_type": "stream",
     "text": [
      "4.0\n"
     ]
    }
   ],
   "source": [
    "print(median)"
   ]
  },
  {
   "cell_type": "markdown",
   "id": "61c44495",
   "metadata": {},
   "source": [
    "# Q7. Compute the standard deviation of the NumPy array"
   ]
  },
  {
   "cell_type": "code",
   "execution_count": 28,
   "id": "d95f9a56",
   "metadata": {},
   "outputs": [],
   "source": [
    "arr = [20, 2, 7, 1, 34]\n",
    "deviation=np.std(arr)"
   ]
  },
  {
   "cell_type": "code",
   "execution_count": 29,
   "id": "25ba551e",
   "metadata": {},
   "outputs": [
    {
     "name": "stdout",
     "output_type": "stream",
     "text": [
      "12.576167937809991\n"
     ]
    }
   ],
   "source": [
    "print(deviation)"
   ]
  },
  {
   "cell_type": "code",
   "execution_count": null,
   "id": "553ec2f6",
   "metadata": {},
   "outputs": [],
   "source": []
  }
 ],
 "metadata": {
  "kernelspec": {
   "display_name": "Python 3 (ipykernel)",
   "language": "python",
   "name": "python3"
  },
  "language_info": {
   "codemirror_mode": {
    "name": "ipython",
    "version": 3
   },
   "file_extension": ".py",
   "mimetype": "text/x-python",
   "name": "python",
   "nbconvert_exporter": "python",
   "pygments_lexer": "ipython3",
   "version": "3.11.5"
  }
 },
 "nbformat": 4,
 "nbformat_minor": 5
}
