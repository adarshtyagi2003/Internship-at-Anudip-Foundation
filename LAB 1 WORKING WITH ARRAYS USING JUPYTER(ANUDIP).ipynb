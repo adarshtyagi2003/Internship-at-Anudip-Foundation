{
 "cells": [
  {
   "cell_type": "markdown",
   "id": "881f689c",
   "metadata": {},
   "source": [
    "# LAB 2 WORKING WITH ARRAYS USING JUPYTER"
   ]
  },
  {
   "cell_type": "markdown",
   "id": "80fb77fb",
   "metadata": {},
   "source": [
    "# Q1. convert the below list into numpy array and displaying"
   ]
  },
  {
   "cell_type": "code",
   "execution_count": 1,
   "id": "f17248e2",
   "metadata": {},
   "outputs": [],
   "source": [
    "import numpy as np "
   ]
  },
  {
   "cell_type": "code",
   "execution_count": 2,
   "id": "84efa9d9",
   "metadata": {},
   "outputs": [],
   "source": [
    "my_list=[1,2,3,4]\n",
    "arr=np.array(my_list)"
   ]
  },
  {
   "cell_type": "code",
   "execution_count": 3,
   "id": "c867cd8f",
   "metadata": {},
   "outputs": [
    {
     "name": "stdout",
     "output_type": "stream",
     "text": [
      "[1, 2, 3, 4]\n"
     ]
    }
   ],
   "source": [
    "print(my_list)"
   ]
  },
  {
   "cell_type": "markdown",
   "id": "2f957ea0",
   "metadata": {},
   "source": [
    "# Q2. convert the below list into a numpy array then display the array then display the first and last index and then multiply each element by 2 and display the result"
   ]
  },
  {
   "cell_type": "code",
   "execution_count": 4,
   "id": "c4df21c6",
   "metadata": {},
   "outputs": [],
   "source": [
    "list=[2,3,5,6,8,9]"
   ]
  },
  {
   "cell_type": "code",
   "execution_count": 5,
   "id": "6ec67fe8",
   "metadata": {},
   "outputs": [
    {
     "name": "stdout",
     "output_type": "stream",
     "text": [
      "[2 3 5 6 8 9]\n"
     ]
    }
   ],
   "source": [
    "ar=np.array(list)\n",
    "print(ar)"
   ]
  },
  {
   "cell_type": "code",
   "execution_count": 8,
   "id": "2cf7732d",
   "metadata": {},
   "outputs": [
    {
     "name": "stdout",
     "output_type": "stream",
     "text": [
      "2\n",
      "9\n"
     ]
    }
   ],
   "source": [
    "print(ar[0])\n",
    "print(ar[-1])"
   ]
  },
  {
   "cell_type": "code",
   "execution_count": 9,
   "id": "e514b51a",
   "metadata": {},
   "outputs": [
    {
     "name": "stdout",
     "output_type": "stream",
     "text": [
      "[ 4  6 10 12 16 18]\n"
     ]
    }
   ],
   "source": [
    "print(ar*2)"
   ]
  },
  {
   "cell_type": "markdown",
   "id": "87354ffe",
   "metadata": {},
   "source": [
    "# Q3. write a numpy program to create an array of 10 zeros,10 ones,10 fives"
   ]
  },
  {
   "cell_type": "code",
   "execution_count": 11,
   "id": "c07e627c",
   "metadata": {},
   "outputs": [
    {
     "name": "stdout",
     "output_type": "stream",
     "text": [
      "array of zeros: [0 0 0 0 0 0 0 0 0 0]\n"
     ]
    }
   ],
   "source": [
    "arr=np.zeros((10),dtype=\"int\")\n",
    "print(\"array of zeros:\" ,arr)"
   ]
  },
  {
   "cell_type": "code",
   "execution_count": 12,
   "id": "75c58815",
   "metadata": {},
   "outputs": [
    {
     "name": "stdout",
     "output_type": "stream",
     "text": [
      "array of ones: [1 1 1 1 1 1 1 1 1 1]\n"
     ]
    }
   ],
   "source": [
    "arr=np.ones((10),dtype=\"int\")\n",
    "print(\"array of ones:\" ,arr)"
   ]
  },
  {
   "cell_type": "code",
   "execution_count": 15,
   "id": "c56765fc",
   "metadata": {},
   "outputs": [
    {
     "name": "stdout",
     "output_type": "stream",
     "text": [
      "array of 10 fives: [5 5 5 5 5 5 5 5 5 5]\n"
     ]
    }
   ],
   "source": [
    "arr=np.ones((10),dtype=\"int\")\n",
    "print(\"array of 10 fives:\",arr*5)"
   ]
  },
  {
   "cell_type": "markdown",
   "id": "0733c727",
   "metadata": {},
   "source": [
    "# Q4. write a numpy program to create a 3*3 matrix with values ranging from 2 to 10"
   ]
  },
  {
   "cell_type": "code",
   "execution_count": 18,
   "id": "50dba677",
   "metadata": {},
   "outputs": [
    {
     "name": "stdout",
     "output_type": "stream",
     "text": [
      "[ 2  3  4  5  6  7  8  9 10]\n",
      "[[ 2  3  4]\n",
      " [ 5  6  7]\n",
      " [ 8  9 10]]\n"
     ]
    }
   ],
   "source": [
    "ar=np.arange(2,11)\n",
    "print(ar)\n",
    "ar=ar.reshape(3,3)\n",
    "print(ar)\n"
   ]
  },
  {
   "cell_type": "markdown",
   "id": "37674eb2",
   "metadata": {},
   "source": []
  },
  {
   "cell_type": "markdown",
   "id": "d6d0a63b",
   "metadata": {},
   "source": []
  }
 ],
 "metadata": {
  "kernelspec": {
   "display_name": "Python 3 (ipykernel)",
   "language": "python",
   "name": "python3"
  },
  "language_info": {
   "codemirror_mode": {
    "name": "ipython",
    "version": 3
   },
   "file_extension": ".py",
   "mimetype": "text/x-python",
   "name": "python",
   "nbconvert_exporter": "python",
   "pygments_lexer": "ipython3",
   "version": "3.11.5"
  }
 },
 "nbformat": 4,
 "nbformat_minor": 5
}
